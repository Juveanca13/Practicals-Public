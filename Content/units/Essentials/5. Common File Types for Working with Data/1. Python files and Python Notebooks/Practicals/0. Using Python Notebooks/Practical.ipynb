{
  "cells": [
    {
      "cell_type": "markdown",
      "metadata": {
        "id": "view-in-github",
        "colab_type": "text"
      },
      "source": [
        "<a href=\"https://colab.research.google.com/github/Juveanca13/Practicals-Public/blob/main/Content/units/Essentials/5.%20Common%20File%20Types%20for%20Working%20with%20Data/1.%20Python%20files%20and%20Python%20Notebooks/Practicals/0.%20Using%20Python%20Notebooks/Practical.ipynb\" target=\"_parent\"><img src=\"https://colab.research.google.com/assets/colab-badge.svg\" alt=\"Open In Colab\"/></a>"
      ]
    },
    {
      "cell_type": "markdown",
      "metadata": {
        "id": "wERXtSlC7feZ"
      },
      "source": [
        "# Using Python Notebooks"
      ]
    },
    {
      "cell_type": "markdown",
      "source": [
        "**My** **notebook**\n",
        "\n",
        "Welcome to my page"
      ],
      "metadata": {
        "id": "xPk8sG0y7nDX"
      }
    },
    {
      "cell_type": "markdown",
      "metadata": {
        "id": "PfEHNU_s7fei"
      },
      "source": [
        "### 1. Create a markdown cell and write a short introduction to the notebook.\n",
        "\n",
        "If you are on Google Colab, you can click on the `+ Text` button to create a new cell. If you are using Jupyter Notebook, you can click on the `+ Markdown` button to create a new cell.\n",
        "\n",
        "<p align=center><img src=\"https://github.com/AI-Core/Practicals-Public/blob/main/Content/units/Essentials/5.%20Common%20File%20Types%20for%20Working%20with%20Data/1.%20Python%20files%20and%20Python%20Notebooks/Practicals/0.%20Using%20Python%20Notebooks/images/create_markdown_colab.png?raw=1\" width=500px><img src=\"https://github.com/AI-Core/Practicals-Public/blob/main/Content/units/Essentials/5.%20Common%20File%20Types%20for%20Working%20with%20Data/1.%20Python%20files%20and%20Python%20Notebooks/Practicals/0.%20Using%20Python%20Notebooks/images/create_markdown_jupyter.png?raw=1\" width=700px></p>"
      ]
    },
    {
      "cell_type": "markdown",
      "metadata": {
        "id": "YLPtRf6m7fem"
      },
      "source": [
        "### 2. Create a code cell and write a simple Python program that prints \"Hello World!\".\n",
        "\n",
        "Inside the code cell, simply type `print(\"Hello World!\")` and run the cell. You can run the cell by clicking on the `Run` button or by pressing `Shift + Enter`.\n",
        "\n",
        "Alternatively, you can click outside of the cell and press \"A\" to create a new cell above the current cell, or \"B\" to create a new cell below the current cell.\n",
        "\n",
        "Another shortcut is to press \"D\" twice to delete the current cell."
      ]
    },
    {
      "cell_type": "code",
      "source": [
        "print (\"Hello World!\")"
      ],
      "metadata": {
        "id": "BdTaQmdB95S_",
        "outputId": "53b6999f-6a5b-4939-8b6c-70dfe7265ddc",
        "colab": {
          "base_uri": "https://localhost:8080/"
        }
      },
      "execution_count": 1,
      "outputs": [
        {
          "output_type": "stream",
          "name": "stdout",
          "text": [
            "Hello World!\n"
          ]
        }
      ]
    }
  ],
  "metadata": {
    "language_info": {
      "name": "python"
    },
    "colab": {
      "provenance": [],
      "include_colab_link": true
    },
    "kernelspec": {
      "name": "python3",
      "display_name": "Python 3"
    }
  },
  "nbformat": 4,
  "nbformat_minor": 0
}