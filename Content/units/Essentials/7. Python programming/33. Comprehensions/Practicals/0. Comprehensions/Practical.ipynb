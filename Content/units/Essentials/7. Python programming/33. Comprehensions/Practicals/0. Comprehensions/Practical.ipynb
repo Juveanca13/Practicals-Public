{
  "cells": [
    {
      "cell_type": "markdown",
      "metadata": {
        "id": "view-in-github",
        "colab_type": "text"
      },
      "source": [
        "<a href=\"https://colab.research.google.com/github/Juveanca13/Practicals-Public/blob/main/Content/units/Essentials/7.%20Python%20programming/33.%20Comprehensions/Practicals/0.%20Comprehensions/Practical.ipynb\" target=\"_parent\"><img src=\"https://colab.research.google.com/assets/colab-badge.svg\" alt=\"Open In Colab\"/></a>"
      ]
    },
    {
      "cell_type": "markdown",
      "id": "3bed4097",
      "metadata": {
        "id": "3bed4097"
      },
      "source": [
        "# Comprehensions"
      ]
    },
    {
      "cell_type": "markdown",
      "id": "d50673b8",
      "metadata": {
        "id": "d50673b8"
      },
      "source": [
        "#### 1. Use a list comprehension to capitalise the first letter of every element in the list `['hello', 'world']`"
      ]
    },
    {
      "cell_type": "code",
      "execution_count": 1,
      "id": "a2c25f40",
      "metadata": {
        "id": "a2c25f40",
        "outputId": "c4abbc0d-c6e1-4e91-ac0f-2444e82b9644",
        "colab": {
          "base_uri": "https://localhost:8080/"
        }
      },
      "outputs": [
        {
          "output_type": "stream",
          "name": "stdout",
          "text": [
            "['Hello', 'World']\n"
          ]
        }
      ],
      "source": [
        "# TODO - Create a variable called word_list, and assign the values `['hello', 'world']`\n",
        "word_list = ['hello','world']\n",
        "# TODO - Use list comprension to capitalise the first letter of every element in `word_list`. Assign to a variable called `capital_list`.\n",
        "capital_list = [word.capitalize() for word in word_list]\n",
        "print(capital_list)\n"
      ]
    },
    {
      "cell_type": "markdown",
      "id": "a02860a4",
      "metadata": {
        "id": "a02860a4"
      },
      "source": [
        "#### 2. Use a list comprehension to filter out every multiple of 5 from a range of numbers up to 100"
      ]
    },
    {
      "cell_type": "code",
      "execution_count": 2,
      "id": "8319b8bf",
      "metadata": {
        "colab": {
          "base_uri": "https://localhost:8080/"
        },
        "id": "8319b8bf",
        "outputId": "1a79acb8-be1f-47ca-92bc-83e95af6c261"
      },
      "outputs": [
        {
          "output_type": "stream",
          "name": "stdout",
          "text": [
            "[1, 2, 3, 4, 6, 7, 8, 9, 11, 12, 13, 14, 16, 17, 18, 19, 21, 22, 23, 24, 26, 27, 28, 29, 31, 32, 33, 34, 36, 37, 38, 39, 41, 42, 43, 44, 46, 47, 48, 49, 51, 52, 53, 54, 56, 57, 58, 59, 61, 62, 63, 64, 66, 67, 68, 69, 71, 72, 73, 74, 76, 77, 78, 79, 81, 82, 83, 84, 86, 87, 88, 89, 91, 92, 93, 94, 96, 97, 98, 99]\n"
          ]
        }
      ],
      "source": [
        "# TODO - Use a list comprehension to filter out every multiple of 5 from a range of numbers up to 100\n",
        "filter = [num for num in range (1,101) if num %5 !=0]\n",
        "print (filter)\n"
      ]
    },
    {
      "cell_type": "markdown",
      "id": "8ec542df",
      "metadata": {
        "id": "8ec542df"
      },
      "source": [
        "#### 3. Use a dictionary comprehension to create a map between every integer up to 15 and it's value squared, and assign to a variable called `squared_dict`.\n",
        "\n"
      ]
    },
    {
      "cell_type": "code",
      "execution_count": 3,
      "id": "85cba5c1",
      "metadata": {
        "id": "85cba5c1",
        "outputId": "b296a12f-230b-40ad-c15e-396b3e2aab9f",
        "colab": {
          "base_uri": "https://localhost:8080/"
        }
      },
      "outputs": [
        {
          "output_type": "stream",
          "name": "stdout",
          "text": [
            "{0: 0, 1: 1, 2: 4, 3: 9, 4: 16, 5: 25, 6: 36, 7: 49, 8: 64, 9: 81, 10: 100, 11: 121, 12: 144, 13: 169, 14: 196, 15: 225}\n"
          ]
        }
      ],
      "source": [
        "# TODO - Use a dictionary comprehension to create a map between every integer up to 15 and it's value squared\n",
        "map = {num : num**2 for num in range (16)}\n",
        "print (map)"
      ]
    },
    {
      "cell_type": "markdown",
      "id": "e175232f",
      "metadata": {
        "id": "e175232f"
      },
      "source": [
        "#### 4. Now, use a dictionary comprehension to create a dictionary that does the inverse! (hint: iterate over `squared_dict.items()` )."
      ]
    },
    {
      "cell_type": "code",
      "execution_count": 4,
      "id": "c831b7b1",
      "metadata": {
        "colab": {
          "base_uri": "https://localhost:8080/"
        },
        "id": "c831b7b1",
        "outputId": "4ccf67bd-af3a-4ab0-ba2c-037566a6de68"
      },
      "outputs": [
        {
          "output_type": "stream",
          "name": "stdout",
          "text": [
            "{0: 0, 1: 1, 4: 2, 9: 3, 16: 4, 25: 5, 36: 6, 49: 7, 64: 8, 81: 9, 100: 10, 121: 11, 144: 12, 169: 13, 196: 14, 225: 15}\n"
          ]
        }
      ],
      "source": [
        "# TODO -  use a dictionary comprehension to create a dictionary that does the inverse!\n",
        "squared_dict = {num : num**2 for num in range (16)}\n",
        "inverse_dict = {value : key for key, value in squared_dict.items()}\n",
        "print (inverse_dict)"
      ]
    }
  ],
  "metadata": {
    "kernelspec": {
      "display_name": "content-projects_new",
      "language": "python",
      "name": "python3"
    },
    "language_info": {
      "codemirror_mode": {
        "name": "ipython",
        "version": 3
      },
      "file_extension": ".py",
      "mimetype": "text/x-python",
      "name": "python",
      "nbconvert_exporter": "python",
      "pygments_lexer": "ipython3",
      "version": "3.10.8"
    },
    "vscode": {
      "interpreter": {
        "hash": "4b961f8166aad6ccb4cf65d0f9c742ef9c6c23ffe83ad932438cd83ed96aebaf"
      }
    },
    "colab": {
      "provenance": [],
      "include_colab_link": true
    }
  },
  "nbformat": 4,
  "nbformat_minor": 5
}