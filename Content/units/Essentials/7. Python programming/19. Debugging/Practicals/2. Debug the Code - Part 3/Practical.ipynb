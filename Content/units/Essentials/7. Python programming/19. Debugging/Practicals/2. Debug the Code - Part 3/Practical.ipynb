{
  "cells": [
    {
      "cell_type": "markdown",
      "metadata": {
        "id": "view-in-github",
        "colab_type": "text"
      },
      "source": [
        "<a href=\"https://colab.research.google.com/github/Juveanca13/Practicals-Public/blob/main/Content/units/Essentials/7.%20Python%20programming/19.%20Debugging/Practicals/2.%20Debug%20the%20Code%20-%20Part%203/Practical.ipynb\" target=\"_parent\"><img src=\"https://colab.research.google.com/assets/colab-badge.svg\" alt=\"Open In Colab\"/></a>"
      ]
    },
    {
      "cell_type": "markdown",
      "id": "c92f4159",
      "metadata": {
        "id": "c92f4159"
      },
      "source": [
        "# Debug the Code - Part 3"
      ]
    },
    {
      "cell_type": "code",
      "execution_count": 1,
      "id": "813fa5fb",
      "metadata": {
        "id": "813fa5fb",
        "outputId": "855be537-2075-4a40-ea17-d6f43ba8f789",
        "colab": {
          "base_uri": "https://localhost:8080/"
        }
      },
      "outputs": [
        {
          "output_type": "stream",
          "name": "stdout",
          "text": [
            "Downloading to_debug.py...\n",
            "Downloading expected_output.txt...\n"
          ]
        }
      ],
      "source": [
        "#@title ### Run the following cell to download the necessary files for this practical { display-mode: \"form\" }\n",
        "#@markdown Don't worry about what's in this collapsed cell\n",
        "\n",
        "print('Downloading to_debug.py...')\n",
        "!wget https://s3-eu-west-1.amazonaws.com/aicore-portal-public-prod-307050600709/practical_files/e5159940-957b-4a5c-96da-c1523abb9f6a/to_debug.py -q -O to_debug.py\n",
        "print('Downloading expected_output.txt...')\n",
        "!wget https://s3-eu-west-1.amazonaws.com/aicore-portal-public-prod-307050600709/practical_files/e5159940-957b-4a5c-96da-c1523abb9f6a/expected_output.txt -q -O expected_output.txt\n"
      ]
    },
    {
      "cell_type": "markdown",
      "id": "0b1d3278",
      "metadata": {
        "id": "0b1d3278"
      },
      "source": [
        "\n",
        "<details>\n",
        "<summary>Some parts in this practical will require\n",
        "you to open a file. Click here to see how to do it.</summary>\n",
        "<ul>\n",
        "<li>Click on the folder logo on the left side of the screen</li>\n",
        "<p align=center><img src=\"https://github.com/AI-Core/Practicals-Public/blob/main/Content/units/Essentials/7.%20Python%20programming/19.%20Debugging/Practicals/2.%20Debug%20the%20Code%20-%20Part%203/images/read_1.png?raw=1\"></p>\n",
        "<li>Double click on the file you want to open</li>\n",
        "<p align=center><img src=\"https://github.com/AI-Core/Practicals-Public/blob/main/Content/units/Essentials/7.%20Python%20programming/19.%20Debugging/Practicals/2.%20Debug%20the%20Code%20-%20Part%203/images/read_2.png?raw=1\"></p>\n",
        "<li>The file will appear on the right side of the screen</li>\n",
        "<p align=center><img src=\"https://github.com/AI-Core/Practicals-Public/blob/main/Content/units/Essentials/7.%20Python%20programming/19.%20Debugging/Practicals/2.%20Debug%20the%20Code%20-%20Part%203/images/read_3.png?raw=1\"></p>\n",
        "</ul>\n",
        "</details>\n",
        "    \n",
        "<details>\n",
        "<summary>Some parts in this practical will require\n",
        "you to update a file. Click here to see how to do it.</summary>\n",
        "<ul>\n",
        "<li>Click on the folder logo on the left side of the screen</li>\n",
        "<p align=center><img src=\"https://github.com/AI-Core/Practicals-Public/blob/main/Content/units/Essentials/7.%20Python%20programming/19.%20Debugging/Practicals/2.%20Debug%20the%20Code%20-%20Part%203/images/update_1.png?raw=1\"></p>\n",
        "<li>\n",
        "    Double click on the file you want to update. The image will appear on the right side of the screen.\n",
        "    You can edit the file by clicking on the text area, and then saving your changes.\n",
        "</li>\n",
        "<p align=center><img src=\"https://github.com/AI-Core/Practicals-Public/blob/main/Content/units/Essentials/7.%20Python%20programming/19.%20Debugging/Practicals/2.%20Debug%20the%20Code%20-%20Part%203/images/update_2.png?raw=1\"></p>\n",
        "</ul>\n",
        "</details>\n",
        "    "
      ]
    },
    {
      "cell_type": "markdown",
      "id": "fa436326",
      "metadata": {
        "id": "fa436326"
      },
      "source": [
        "#### 1. Run `to_debug.py` to find the errors"
      ]
    },
    {
      "cell_type": "code",
      "execution_count": 2,
      "id": "c6d8107e",
      "metadata": {
        "id": "c6d8107e",
        "outputId": "38f4a719-ec55-4411-8cdd-bcdd9abdef96",
        "colab": {
          "base_uri": "https://localhost:8080/",
          "height": 140
        }
      },
      "outputs": [
        {
          "output_type": "error",
          "ename": "SyntaxError",
          "evalue": "ignored",
          "traceback": [
            "\u001b[0;36m  File \u001b[0;32m\"<ipython-input-2-1b5ac6af8327>\"\u001b[0;36m, line \u001b[0;32m3\u001b[0m\n\u001b[0;31m    exam_two = input(\"Input exam grade two: \"))\u001b[0m\n\u001b[0m                                              ^\u001b[0m\n\u001b[0;31mSyntaxError\u001b[0m\u001b[0;31m:\u001b[0m unmatched ')'\n"
          ]
        }
      ],
      "source": [
        "exam_one = input(\"Input exam grade one: \")\n",
        "\n",
        "exam_two = input(\"Input exam grade two: \"))\n",
        "\n",
        "exam_3 = str(input(\"Input exam grade three: \"))\n",
        "\n",
        "grades = [exam_one exam_two exam_three]\n",
        "sum = 0\n",
        "for grade in grade:\n",
        "    sum = sum + grade\n",
        "\n",
        "avg = sum / len(grdes)\n",
        "\n",
        "if avg >= 90:\n",
        "    letter_grade = \"A\"\n",
        "elif avg >= 80 and avg < 90\n",
        "    letter_grade = \"B\"\n",
        "elif avg > 69 and avg < 80:\n",
        "    letter_grade = \"C'\n",
        "elif avg <= 69 and avg >= 65:\n",
        "    letter_grade = \"D\"\n",
        "else:\n",
        "    letter_grade = \"F\"\n",
        "\n",
        "for grade in grades:\n",
        "    print(\"Exam: \" + str(grade))\n",
        "\n",
        "      print(\"Average: \" + str(avg))\n",
        "\n",
        "    print(\"Grade: \" + letter_grade)\n",
        "\n",
        "    if letter-grade == \"F\":\n",
        "        print \"Student is failing.\"\n",
        "    else:\n",
        "        print \"Student is passing.\""
      ]
    },
    {
      "cell_type": "markdown",
      "id": "e99ff0f3",
      "metadata": {
        "id": "e99ff0f3"
      },
      "source": [
        "#### 2. Debug it, so it can run with no errors"
      ]
    },
    {
      "cell_type": "code",
      "execution_count": 3,
      "id": "c574467e",
      "metadata": {
        "id": "c574467e",
        "outputId": "7e8597a2-270a-4986-c795-f8a98c125f9e",
        "colab": {
          "base_uri": "https://localhost:8080/"
        }
      },
      "outputs": [
        {
          "output_type": "stream",
          "name": "stdout",
          "text": [
            "Input exam grade one: 9\n",
            "Input exam grade two: 10\n",
            "Input exam grade three: 8\n",
            "Exam: 9.0\n",
            "Exam: 10.0\n",
            "Exam: 8.0\n",
            "Average: 9.0\n",
            "Grade: F\n",
            "Student is failing.\n"
          ]
        }
      ],
      "source": [
        "exam_one = float(input(\"Input exam grade one: \"))\n",
        "exam_two = float(input(\"Input exam grade two: \"))\n",
        "exam_three = float(input(\"Input exam grade three: \"))\n",
        "\n",
        "grades = [exam_one, exam_two, exam_three]\n",
        "total = sum(grades)\n",
        "avg = total / len(grades)\n",
        "\n",
        "if avg >= 90:\n",
        "    letter_grade = \"A\"\n",
        "elif 80 <= avg < 90:  # Fixed syntax error here\n",
        "    letter_grade = \"B\"\n",
        "elif 70 <= avg < 80:  # Fixed syntax error here\n",
        "    letter_grade = \"C\"\n",
        "elif 65 <= avg <= 69:  # Fixed syntax error here\n",
        "    letter_grade = \"D\"\n",
        "else:\n",
        "    letter_grade = \"F\"\n",
        "\n",
        "for grade in grades:\n",
        "    print(\"Exam: \" + str(grade))\n",
        "\n",
        "print(\"Average: \" + str(avg))\n",
        "print(\"Grade: \" + letter_grade)\n",
        "\n",
        "if letter_grade == \"F\":  # Fixed syntax error here, and corrected variable name\n",
        "    print(\"Student is failing.\")\n",
        "else:\n",
        "    print(\"Student is passing.\")\n"
      ]
    },
    {
      "cell_type": "markdown",
      "id": "5a5c6937",
      "metadata": {
        "id": "5a5c6937"
      },
      "source": [
        "#### 3. The expected output after debugging it can be seen in `expected_output.txt`\n",
        "\n",
        "Extra points if you can also fix the code style errors. Take a look at this [link](https://www.python.org/dev/peps/pep-0008/) to learn more about coding style."
      ]
    },
    {
      "cell_type": "code",
      "execution_count": 4,
      "id": "bfa4ee43",
      "metadata": {
        "id": "bfa4ee43",
        "outputId": "162a8f0a-e9a9-44e1-9283-48517b85dc6f",
        "colab": {
          "base_uri": "https://localhost:8080/"
        }
      },
      "outputs": [
        {
          "output_type": "stream",
          "name": "stdout",
          "text": [
            "Input exam grade one: 80\n",
            "Input exam grade two: 76\n",
            "Input exam grade three: 99\n",
            "Exam: 80.0\n",
            "Exam: 76.0\n",
            "Exam: 99.0\n",
            "Average: 85.00\n",
            "Grade: B\n",
            "Student is passing.\n"
          ]
        }
      ],
      "source": [
        "exam_one = float(input(\"Input exam grade one: \"))\n",
        "exam_two = float(input(\"Input exam grade two: \"))\n",
        "exam_three = float(input(\"Input exam grade three: \"))\n",
        "\n",
        "grades = [exam_one, exam_two, exam_three]\n",
        "total = sum(grades)\n",
        "avg = total / len(grades)\n",
        "\n",
        "if avg >= 90:\n",
        "    letter_grade = \"A\"\n",
        "elif 80 <= avg < 90:\n",
        "    letter_grade = \"B\"\n",
        "elif 70 <= avg < 80:\n",
        "    letter_grade = \"C\"\n",
        "elif 65 <= avg <= 69:\n",
        "    letter_grade = \"D\"\n",
        "else:\n",
        "    letter_grade = \"F\"\n",
        "\n",
        "for grade in grades:\n",
        "    print(f\"Exam: {grade}\")  # Use f-string for better readability\n",
        "\n",
        "print(f\"Average: {avg:.2f}\")  # Display average with two decimal places\n",
        "print(f\"Grade: {letter_grade}\")\n",
        "\n",
        "if letter_grade == \"F\":\n",
        "    print(\"Student is failing.\")\n",
        "else:\n",
        "    print(\"Student is passing.\")\n"
      ]
    }
  ],
  "metadata": {
    "kernelspec": {
      "display_name": "content-projects_new",
      "language": "python",
      "name": "python3"
    },
    "language_info": {
      "codemirror_mode": {
        "name": "ipython",
        "version": 3
      },
      "file_extension": ".py",
      "mimetype": "text/x-python",
      "name": "python",
      "nbconvert_exporter": "python",
      "pygments_lexer": "ipython3",
      "version": "3.10.8"
    },
    "vscode": {
      "interpreter": {
        "hash": "4b961f8166aad6ccb4cf65d0f9c742ef9c6c23ffe83ad932438cd83ed96aebaf"
      }
    },
    "colab": {
      "provenance": [],
      "include_colab_link": true
    }
  },
  "nbformat": 4,
  "nbformat_minor": 5
}