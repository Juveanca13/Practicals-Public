{
  "cells": [
    {
      "cell_type": "markdown",
      "metadata": {
        "id": "view-in-github",
        "colab_type": "text"
      },
      "source": [
        "<a href=\"https://colab.research.google.com/github/Juveanca13/Practicals-Public/blob/main/Content/units/Essentials/7.%20Python%20programming/19.%20Debugging/Practicals/0.%20Debug%20the%20Code%20-%20Part%201/Practical.ipynb\" target=\"_parent\"><img src=\"https://colab.research.google.com/assets/colab-badge.svg\" alt=\"Open In Colab\"/></a>"
      ]
    },
    {
      "cell_type": "markdown",
      "id": "a99e436f",
      "metadata": {
        "id": "a99e436f"
      },
      "source": [
        "# Debug the Code - Part 1"
      ]
    },
    {
      "cell_type": "code",
      "execution_count": 4,
      "id": "c407d2a5",
      "metadata": {
        "colab": {
          "base_uri": "https://localhost:8080/"
        },
        "id": "c407d2a5",
        "outputId": "9dab9168-4722-43e7-9554-5bf34c1db2cd"
      },
      "outputs": [
        {
          "output_type": "stream",
          "name": "stdout",
          "text": [
            "Downloading to_debug.py...\n",
            "Downloading expected_output.txt...\n"
          ]
        }
      ],
      "source": [
        "#@title ### Run the following cell to download the necessary files for this practical { display-mode: \"form\" }\n",
        "#@markdown Don't worry about what's in this collapsed cell\n",
        "\n",
        "print('Downloading to_debug.py...')\n",
        "!wget https://s3-eu-west-1.amazonaws.com/aicore-portal-public-prod-307050600709/practical_files/fe85d96d-7c26-432a-a25e-999acff6c149/to_debug.py -q -O to_debug.py\n",
        "print('Downloading expected_output.txt...')\n",
        "!wget https://s3-eu-west-1.amazonaws.com/aicore-portal-public-prod-307050600709/practical_files/fe85d96d-7c26-432a-a25e-999acff6c149/expected_output.txt -q -O expected_output.txt\n"
      ]
    },
    {
      "cell_type": "markdown",
      "id": "3246616f",
      "metadata": {
        "id": "3246616f"
      },
      "source": [
        "\n",
        "<details>\n",
        "<summary>Some parts in this practical will require\n",
        "you to open a file. Click here to see how to do it.</summary>\n",
        "<ul>\n",
        "<li>Click on the folder logo on the left side of the screen</li>\n",
        "<p align=center><img src=\"https://github.com/AI-Core/Practicals-Public/blob/main/Content/units/Essentials/7.%20Python%20programming/19.%20Debugging/Practicals/0.%20Debug%20the%20Code%20-%20Part%201/images/read_1.png?raw=1\"></p>\n",
        "<li>Double click on the file you want to open</li>\n",
        "<p align=center><img src=\"https://github.com/AI-Core/Practicals-Public/blob/main/Content/units/Essentials/7.%20Python%20programming/19.%20Debugging/Practicals/0.%20Debug%20the%20Code%20-%20Part%201/images/read_2.png?raw=1\"></p>\n",
        "<li>The file will appear on the right side of the screen</li>\n",
        "<p align=center><img src=\"https://github.com/AI-Core/Practicals-Public/blob/main/Content/units/Essentials/7.%20Python%20programming/19.%20Debugging/Practicals/0.%20Debug%20the%20Code%20-%20Part%201/images/read_3.png?raw=1\"></p>\n",
        "</ul>\n",
        "</details>\n",
        "    \n",
        "<details>\n",
        "<summary>Some parts in this practical will require\n",
        "you to update a file. Click here to see how to do it.</summary>\n",
        "<ul>\n",
        "<li>Click on the folder logo on the left side of the screen</li>\n",
        "<p align=center><img src=\"https://github.com/AI-Core/Practicals-Public/blob/main/Content/units/Essentials/7.%20Python%20programming/19.%20Debugging/Practicals/0.%20Debug%20the%20Code%20-%20Part%201/images/update_1.png?raw=1\"></p>\n",
        "<li>\n",
        "    Double click on the file you want to update. The image will appear on the right side of the screen.\n",
        "    You can edit the file by clicking on the text area, and then saving your changes.\n",
        "</li>\n",
        "<p align=center><img src=\"https://github.com/AI-Core/Practicals-Public/blob/main/Content/units/Essentials/7.%20Python%20programming/19.%20Debugging/Practicals/0.%20Debug%20the%20Code%20-%20Part%201/images/update_2.png?raw=1\"></p>\n",
        "</ul>\n",
        "</details>\n",
        "    "
      ]
    },
    {
      "cell_type": "markdown",
      "id": "825fdbe1",
      "metadata": {
        "id": "825fdbe1"
      },
      "source": [
        "### 1. Run `to_debug.py` to find the errors"
      ]
    },
    {
      "cell_type": "code",
      "execution_count": 5,
      "id": "f03681e9",
      "metadata": {
        "colab": {
          "base_uri": "https://localhost:8080/",
          "height": 140
        },
        "id": "f03681e9",
        "outputId": "82328d19-0164-40c2-e622-1ad3d75ecd5b"
      },
      "outputs": [
        {
          "output_type": "error",
          "ename": "SyntaxError",
          "evalue": "ignored",
          "traceback": [
            "\u001b[0;36m  File \u001b[0;32m\"<ipython-input-5-ea1a8343e1ad>\"\u001b[0;36m, line \u001b[0;32m10\u001b[0m\n\u001b[0;31m    print(my_ls[2] # Print the second element in the list\u001b[0m\n\u001b[0m                                                         ^\u001b[0m\n\u001b[0;31mSyntaxError\u001b[0m\u001b[0;31m:\u001b[0m incomplete input\n"
          ]
        }
      ],
      "source": [
        "x = 'Dog'\n",
        "y = 'Cat'\n",
        "z = x + ' ' + y\n",
        "\n",
        "len = len(z) # Obtain the number of characters of z\n",
        "print(len)\n",
        "print(len(y)) # Obtain the number of characters of y\n",
        "\n",
        "my_ls = z.split() # Separate each word of z and store the result in a list\n",
        "print(my_ls[2] # Print the second element in the list"
      ]
    },
    {
      "cell_type": "markdown",
      "id": "95b490e0",
      "metadata": {
        "id": "95b490e0"
      },
      "source": [
        "### 2. Debug it, so it can run with no errors"
      ]
    },
    {
      "cell_type": "code",
      "execution_count": 6,
      "id": "280ac613",
      "metadata": {
        "colab": {
          "base_uri": "https://localhost:8080/"
        },
        "id": "280ac613",
        "outputId": "12c1430c-9b98-4567-8925-42082c5e1e4a"
      },
      "outputs": [
        {
          "output_type": "stream",
          "name": "stdout",
          "text": [
            "7\n",
            "3\n",
            "Cat\n"
          ]
        }
      ],
      "source": [
        "from posixpath import split\n",
        "x = 'Dog'\n",
        "y = 'Cat'\n",
        "z = x + ' ' + y\n",
        "\n",
        "lenght = len(z)\n",
        "print (lenght)\n",
        "print(len(y))\n",
        "\n",
        "my_ls = z.split()\n",
        "print(my_ls[1])"
      ]
    },
    {
      "cell_type": "markdown",
      "id": "cf6662ff",
      "metadata": {
        "id": "cf6662ff"
      },
      "source": [
        "### 3. The expected output after debugging it can be seen in the `expected_output.txt` file"
      ]
    },
    {
      "cell_type": "code",
      "execution_count": 8,
      "id": "815cde88",
      "metadata": {
        "id": "815cde88"
      },
      "outputs": [],
      "source": []
    }
  ],
  "metadata": {
    "language_info": {
      "name": "python"
    },
    "colab": {
      "provenance": [],
      "include_colab_link": true
    },
    "kernelspec": {
      "name": "python3",
      "display_name": "Python 3"
    }
  },
  "nbformat": 4,
  "nbformat_minor": 5
}