{
  "cells": [
    {
      "cell_type": "markdown",
      "metadata": {
        "id": "view-in-github",
        "colab_type": "text"
      },
      "source": [
        "<a href=\"https://colab.research.google.com/github/Juveanca13/Practicals-Public/blob/main/Content/units/Essentials/7.%20Python%20programming/13.%20Intro%20to%20Control%20Flow%20/Practicals/2.%20Flight%20Safety%20Checker/Practical.ipynb\" target=\"_parent\"><img src=\"https://colab.research.google.com/assets/colab-badge.svg\" alt=\"Open In Colab\"/></a>"
      ]
    },
    {
      "cell_type": "markdown",
      "id": "6d8086c5",
      "metadata": {
        "id": "6d8086c5"
      },
      "source": [
        "# Flight Safety Checker"
      ]
    },
    {
      "cell_type": "markdown",
      "id": "85b8aef7",
      "metadata": {
        "id": "85b8aef7"
      },
      "source": [
        "Given 2 variables, `altitude` (ft) and `airspeed` (knots)\n",
        "\n",
        "### 1. Write a program that categorises entries into 'safe flying' and 'unsafe flying' based on the following criteria:\n",
        "   - An `altitude` below 100ft or above 50000ft is considered unsafe flying\n",
        "   - An `airspeed` below 60 knots or above 500 knots is considered unsafe flying\n",
        "   - If `altitude` and `airspeed` are outside these ranges, the flight is considered as safe\n",
        "   \n",
        "*CLUE: You will have to figure out the syntax for using `and`/`or` keywords in `if` statements*\n",
        "\n",
        "<p style=\"font-size: 14px; color: #999999; margin-top: 0px; margin-bottom: 0px;\">This practical doesn't have a marking system because there are many ways to tackle this issue</p>"
      ]
    },
    {
      "cell_type": "code",
      "execution_count": 21,
      "id": "ad3c42c9",
      "metadata": {
        "id": "ad3c42c9",
        "outputId": "2c777b1a-cf81-4d12-fe78-e4a8f224f831",
        "colab": {
          "base_uri": "https://localhost:8080/"
        }
      },
      "outputs": [
        {
          "output_type": "stream",
          "name": "stdout",
          "text": [
            "Safe Flying\n"
          ]
        }
      ],
      "source": [
        "# TODO - Create a variable called altitude and set it to a value in ft\n",
        "# TODO - Create a variable called airspeed and set it to a value in knots\n",
        "Altitude = 20000\n",
        "Airspeed =70\n",
        "# TODO - Create the if/else statement to check if the altitude is within the safe range\n",
        "if (Altitude < 100 or Altitude >50000) or (Airspeed <60 or Airspeed >500):\n",
        "  print (\"Unsafe Flying\")\n",
        "else :\n",
        "  print (\"Safe Flying\")\n",
        "\n"
      ]
    },
    {
      "cell_type": "markdown",
      "id": "a42d9e5f",
      "metadata": {
        "id": "a42d9e5f"
      },
      "source": [
        "### 2. Try to write this as cleanly as possible and test your code with the following by substituting in again:\n",
        "\n",
        "- Altitude: 25000ft, Airspeed: 300 knots\n",
        "- Altitude: 50001ft, Airspeed: 250 knots\n",
        "- Altitude: 90ft, Airspeed: 125 knots"
      ]
    },
    {
      "cell_type": "code",
      "execution_count": 22,
      "id": "30ef543d",
      "metadata": {
        "id": "30ef543d",
        "outputId": "10287ecd-069a-473f-a3b6-e87a47b52233",
        "colab": {
          "base_uri": "https://localhost:8080/"
        }
      },
      "outputs": [
        {
          "output_type": "stream",
          "name": "stdout",
          "text": [
            "Safe Flying\n"
          ]
        }
      ],
      "source": [
        "Altitude = 25000\n",
        "Airspeed = 300\n",
        "if (Altitude < 100 or Altitude >50000) and (Airspeed <60 or Airspeed >500):\n",
        "  print (\"Unsafe Flying\")\n",
        "else :\n",
        "  print (\"Safe Flying\")"
      ]
    },
    {
      "cell_type": "code",
      "source": [
        "Altitude = 50001\n",
        "Airspedd = 250\n",
        "if (Altitude < 100 or Altitude >50000) and (Airspeed <60 or Airspeed >500):\n",
        "  print (\"Unsafe Flying\")\n",
        "else :\n",
        "  print (\"Safe Flying\")"
      ],
      "metadata": {
        "id": "mQOrIZgsPtJm",
        "outputId": "509aa819-d40d-41ed-b7f3-7301820cd8c2",
        "colab": {
          "base_uri": "https://localhost:8080/"
        }
      },
      "id": "mQOrIZgsPtJm",
      "execution_count": 16,
      "outputs": [
        {
          "output_type": "stream",
          "name": "stdout",
          "text": [
            "Safe Flying\n"
          ]
        }
      ]
    },
    {
      "cell_type": "code",
      "source": [
        "Altitude = 90\n",
        "Airspeed = 125\n",
        "if (Altitude < 100 or Altitude >50000) and (Airspeed <60 or Airspeed >500):\n",
        "  print (\"Unsafe Flying\")\n",
        "else :\n",
        "  print (\"Safe Flying\")"
      ],
      "metadata": {
        "id": "GSmdcm8bP7tD",
        "outputId": "07946bf4-4adf-4bb1-9639-70d67f6e5977",
        "colab": {
          "base_uri": "https://localhost:8080/"
        }
      },
      "id": "GSmdcm8bP7tD",
      "execution_count": 17,
      "outputs": [
        {
          "output_type": "stream",
          "name": "stdout",
          "text": [
            "Safe Flying\n"
          ]
        }
      ]
    }
  ],
  "metadata": {
    "kernelspec": {
      "display_name": "content-projects_new",
      "language": "python",
      "name": "python3"
    },
    "language_info": {
      "codemirror_mode": {
        "name": "ipython",
        "version": 3
      },
      "file_extension": ".py",
      "mimetype": "text/x-python",
      "name": "python",
      "nbconvert_exporter": "python",
      "pygments_lexer": "ipython3",
      "version": "3.10.8"
    },
    "vscode": {
      "interpreter": {
        "hash": "4b961f8166aad6ccb4cf65d0f9c742ef9c6c23ffe83ad932438cd83ed96aebaf"
      }
    },
    "colab": {
      "provenance": [],
      "include_colab_link": true
    }
  },
  "nbformat": 4,
  "nbformat_minor": 5
}