{
  "cells": [
    {
      "cell_type": "markdown",
      "metadata": {
        "id": "view-in-github",
        "colab_type": "text"
      },
      "source": [
        "<a href=\"https://colab.research.google.com/github/Juveanca13/Practicals-Public/blob/main/Content/units/Essentials/7.%20Python%20programming/22.%20Lambda%20Functions/Practicals/2.%20Lambda%20Functions%20with%20Map/Practical.ipynb\" target=\"_parent\"><img src=\"https://colab.research.google.com/assets/colab-badge.svg\" alt=\"Open In Colab\"/></a>"
      ]
    },
    {
      "cell_type": "markdown",
      "metadata": {
        "id": "UxRRKOP7H7qE"
      },
      "source": [
        "# Lambda Functions with Map"
      ]
    },
    {
      "cell_type": "code",
      "execution_count": 1,
      "metadata": {
        "colab": {
          "base_uri": "https://localhost:8080/"
        },
        "id": "ecf87a2e",
        "outputId": "0f38280d-c195-4889-eb0d-7bca594fe898"
      },
      "outputs": [
        {
          "output_type": "stream",
          "name": "stdout",
          "text": [
            "Downloading the marking system\n"
          ]
        }
      ],
      "source": [
        "#@title ### Run the following cell to download the necessary files for this practical { display-mode: \"form\" }\n",
        "#@markdown Don't worry about what's in this collapsed cell\n",
        "\n",
        "print('Downloading the marking system')\n",
        "!wget https://s3-eu-west-1.amazonaws.com/aicore-portal-public-prod-307050600709/practical_files/efdede0a-7c39-4671-b553-f612aa853466/marking_system.py -q -O marking_system.py\n",
        "import marking_system\n",
        "import importlib\n",
        "importlib.reload(marking_system)\n",
        "import sys\n",
        "ipython = get_ipython()\n",
        "def hide_traceback(exc_tuple=None, filename=None, tb_offset=None, exception_only=False, running_compiled_code=False):\n",
        "    etype, value, tb = sys.exc_info()\n",
        "    value.__cause__ = None  # suppress chained exceptions\n",
        "    return ipython._showtraceback(etype, \"❌ \" + f\"\u001b[91m{value}\", ipython.InteractiveTB.get_exception_only(etype, \"❌ \" + f\"\u001b[91m{value}\"))\n",
        "ipython.showtraceback = hide_traceback\n"
      ]
    },
    {
      "cell_type": "markdown",
      "metadata": {
        "id": "YQnTCUS0H7qL"
      },
      "source": [
        "### 1. Create a list of 5 numbers formatted as integers named `numbers`"
      ]
    },
    {
      "cell_type": "code",
      "execution_count": 2,
      "metadata": {
        "id": "ncTOUCQSH7qM"
      },
      "outputs": [],
      "source": [
        "# TODO: Create a list of 5 numbers formatted as integers named `numbers`\n",
        "numbers = (4,6,3,9,7)"
      ]
    },
    {
      "cell_type": "code",
      "execution_count": 3,
      "metadata": {
        "colab": {
          "base_uri": "https://localhost:8080/"
        },
        "id": "c3wUblIOH7qN",
        "outputId": "34b9ee31-8740-4189-8106-50c05af47430"
      },
      "outputs": [
        {
          "output_type": "stream",
          "name": "stdout",
          "text": [
            "\u001b[92m✔ Well done! You initialised the data correctly.\n"
          ]
        }
      ],
      "source": [
        "#@title #### Run this cell to check your solution { display-mode: \"form\", run: \"auto\" }\n",
        "\n",
        "assert \"numbers\" in globals(), \"You need to initialise the list named 'numbers'\"\n",
        "assert len(numbers) == 5, \"The list should contain 5 integers\"\n",
        "assert all(type(num)==int for num in numbers), \"The list should only contain integers\"\n",
        "\n",
        "print(\n",
        "        \"\\033[92m\\N{heavy check mark} Well done! \"\n",
        "        \"You initialised the data correctly.\")\n"
      ]
    },
    {
      "cell_type": "markdown",
      "metadata": {
        "id": "EMxOqaimH7qO"
      },
      "source": [
        "### 2. Create a lambda function named `square` that squares a number. Then use `map` to square each number in the list into a new list `numbers` called `squared_numbers`."
      ]
    },
    {
      "cell_type": "code",
      "execution_count": 4,
      "metadata": {
        "id": "udhUdCtqH7qO"
      },
      "outputs": [],
      "source": [
        "# TODO: Create a lambda function named `square` that squares a number. Then use `map` to square each number in the list into a new list `numbers` called `squared_numbers`\n",
        "\n",
        "square = lambda x: x**2\n",
        "squared_numbers = list(map(square, numbers))"
      ]
    },
    {
      "cell_type": "code",
      "execution_count": 5,
      "metadata": {
        "colab": {
          "base_uri": "https://localhost:8080/"
        },
        "id": "jPrtAF-cH7qP",
        "outputId": "43405e24-ccb0-4fab-fd56-64c3ca209cf3"
      },
      "outputs": [
        {
          "output_type": "stream",
          "name": "stdout",
          "text": [
            "\u001b[92m✔ Well done!\n"
          ]
        }
      ],
      "source": [
        "#@title #### Run this cell to check your solution { display-mode: \"form\", run: \"auto\" }\n",
        "\n",
        "assert \"squared_numbers\" in globals(), \"You haven't defined the list 'squared_numbers'\"\n",
        "assert \"square\" in globals(), \"You haven't defined the function 'square'.\"\n",
        "assert callable(square), \"'square' should be a function. Please, try again.\"\n",
        "assert square.__code__.co_argcount == 1, \"'square' should take 1 parameter. Please, try again.\"\n",
        "\n",
        "marking_system.check_step_1(square, numbers, squared_numbers)\n"
      ]
    },
    {
      "cell_type": "markdown",
      "metadata": {
        "id": "Sa9X6UyzH7qP"
      },
      "source": [
        "### 3. Create a lambda function named `cube` that cubes a number. Then use `map` to cube each number in the list `numbers` into a new list called `cubed_numbers`."
      ]
    },
    {
      "cell_type": "code",
      "execution_count": 6,
      "metadata": {
        "id": "5mNaa0p2H7qP"
      },
      "outputs": [],
      "source": [
        "# TODO: Create a lambda function named `cube` that cubes a number. Then use `map` to cube each number in the list `numbers` into a new list called `cubed_numbers`\n",
        "cube = lambda x: x**3\n",
        "cubed_numbers = list(map(cube, numbers))"
      ]
    },
    {
      "cell_type": "code",
      "execution_count": 7,
      "metadata": {
        "colab": {
          "base_uri": "https://localhost:8080/"
        },
        "id": "TfXbMriGH7qQ",
        "outputId": "679ac4b8-4a03-4ff9-effc-47adf6328763"
      },
      "outputs": [
        {
          "output_type": "stream",
          "name": "stdout",
          "text": [
            "\u001b[92m✔ Well done!\n"
          ]
        }
      ],
      "source": [
        "#@title #### Run this cell to check your solution { display-mode: \"form\", run: \"auto\" }\n",
        "\n",
        "assert \"cubed_numbers\" in globals(), \"You haven't defined the list 'cubed_numbers'\"\n",
        "assert \"cube\" in globals(), \"You haven't defined the function 'cube'.\"\n",
        "assert callable(cube), \"'cube' should be a function. Please, try again.\"\n",
        "assert cube.__code__.co_argcount == 1, \"'cube' should take 1 parameter. Please, try again.\"\n",
        "\n",
        "marking_system.check_step_2(cube, numbers, cubed_numbers)\n"
      ]
    },
    {
      "cell_type": "markdown",
      "metadata": {
        "id": "mM2osSolH7qR"
      },
      "source": [
        "### 4. Create a lambda function named `func` takes in a number and returns that number squared if it is even, and cubed if it is odd. Then use `map` to apply the function to each number in the list `numbers` into a new list called `func_numbers`."
      ]
    },
    {
      "cell_type": "code",
      "execution_count": 8,
      "metadata": {
        "id": "s4S8-BC7H7qR"
      },
      "outputs": [],
      "source": [
        "# TODO: Create a lambda function named `func` takes in a number and returns that number squared if it is even, and cubed if it is odd. Then use `map` to apply the function to each number in the list `numbers` into a new list called `func_numbers`\n",
        "func = lambda x: x**2 if x % 2 == 0 else x**3\n",
        "func_numbers = list(map(func, numbers))"
      ]
    },
    {
      "cell_type": "code",
      "execution_count": 9,
      "metadata": {
        "colab": {
          "base_uri": "https://localhost:8080/"
        },
        "id": "E58jQFzCH7qS",
        "outputId": "9ee9cf92-e064-4d1b-c99c-2e685c1c1495"
      },
      "outputs": [
        {
          "output_type": "stream",
          "name": "stdout",
          "text": [
            "\u001b[92m✔ Well done!\n"
          ]
        }
      ],
      "source": [
        "#@title #### Run this cell to check your solution { display-mode: \"form\", run: \"auto\" }\n",
        "\n",
        "assert \"func_numbers\" in globals(), \"You haven't defined the list 'func_numbers'\"\n",
        "assert \"func\" in globals(), \"You haven't defined the function 'func'.\"\n",
        "assert callable(func), \"'func' should be a function. Please, try again.\"\n",
        "assert func.__code__.co_argcount == 1, \"'func' should take 1 parameter. Please, try again.\"\n",
        "\n",
        "marking_system.check_step_3(func, numbers, func_numbers)\n"
      ]
    }
  ],
  "metadata": {
    "kernelspec": {
      "display_name": "Python 3",
      "language": "python",
      "name": "python3"
    },
    "language_info": {
      "codemirror_mode": {
        "name": "ipython",
        "version": 3
      },
      "file_extension": ".py",
      "mimetype": "text/x-python",
      "name": "python",
      "nbconvert_exporter": "python",
      "pygments_lexer": "ipython3",
      "version": "3.10.12"
    },
    "colab": {
      "provenance": [],
      "include_colab_link": true
    }
  },
  "nbformat": 4,
  "nbformat_minor": 0
}