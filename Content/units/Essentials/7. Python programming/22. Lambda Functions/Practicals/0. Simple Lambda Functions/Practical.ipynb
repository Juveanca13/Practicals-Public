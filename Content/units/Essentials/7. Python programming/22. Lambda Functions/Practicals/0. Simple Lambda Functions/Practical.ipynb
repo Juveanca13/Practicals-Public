{
  "cells": [
    {
      "cell_type": "markdown",
      "metadata": {
        "id": "view-in-github",
        "colab_type": "text"
      },
      "source": [
        "<a href=\"https://colab.research.google.com/github/Juveanca13/Practicals-Public/blob/main/Content/units/Essentials/7.%20Python%20programming/22.%20Lambda%20Functions/Practicals/0.%20Simple%20Lambda%20Functions/Practical.ipynb\" target=\"_parent\"><img src=\"https://colab.research.google.com/assets/colab-badge.svg\" alt=\"Open In Colab\"/></a>"
      ]
    },
    {
      "cell_type": "markdown",
      "metadata": {
        "id": "1ZKadPE9GDPG"
      },
      "source": [
        "# Simple Lambda Functions"
      ]
    },
    {
      "cell_type": "code",
      "execution_count": 1,
      "metadata": {
        "id": "8a095381",
        "outputId": "f1a56331-29a8-41ca-a9de-e45eef334a8f",
        "colab": {
          "base_uri": "https://localhost:8080/"
        }
      },
      "outputs": [
        {
          "output_type": "stream",
          "name": "stdout",
          "text": [
            "Downloading the marking system\n"
          ]
        }
      ],
      "source": [
        "#@title ### Run the following cell to download the necessary files for this practical { display-mode: \"form\" }\n",
        "#@markdown Don't worry about what's in this collapsed cell\n",
        "\n",
        "print('Downloading the marking system')\n",
        "!wget https://s3-eu-west-1.amazonaws.com/aicore-portal-public-prod-307050600709/practical_files/d81080cb-2094-44b1-9f74-061559c7403b/marking_system.py -q -O marking_system.py\n",
        "import marking_system\n",
        "import importlib\n",
        "importlib.reload(marking_system)\n",
        "import sys\n",
        "ipython = get_ipython()\n",
        "def hide_traceback(exc_tuple=None, filename=None, tb_offset=None, exception_only=False, running_compiled_code=False):\n",
        "    etype, value, tb = sys.exc_info()\n",
        "    value.__cause__ = None  # suppress chained exceptions\n",
        "    return ipython._showtraceback(etype, \"❌ \" + f\"\u001b[91m{value}\", ipython.InteractiveTB.get_exception_only(etype, \"❌ \" + f\"\u001b[91m{value}\"))\n",
        "ipython.showtraceback = hide_traceback\n"
      ]
    },
    {
      "cell_type": "markdown",
      "metadata": {
        "id": "ge_YCHEDGDPO"
      },
      "source": [
        "### Create the following Lambda functions"
      ]
    },
    {
      "cell_type": "markdown",
      "metadata": {
        "id": "x9Z7ShGfGDPO"
      },
      "source": [
        "### 1. A lambda function named `square` that takes in a number and returns that number squared"
      ]
    },
    {
      "cell_type": "code",
      "execution_count": 2,
      "metadata": {
        "id": "cafaOlGuGDPP"
      },
      "outputs": [],
      "source": [
        "# TODO: A lambda function named `square` that takes in a number and returns that number squared\n",
        "square = lambda x: x**2\n"
      ]
    },
    {
      "cell_type": "code",
      "execution_count": 3,
      "metadata": {
        "id": "v4y2tVDMGDPQ",
        "outputId": "54d49f74-ec92-4953-fd30-42f8d4f5ae6d",
        "colab": {
          "base_uri": "https://localhost:8080/"
        }
      },
      "outputs": [
        {
          "output_type": "stream",
          "name": "stdout",
          "text": [
            "\u001b[92m✔ Well done!\n"
          ]
        }
      ],
      "source": [
        "#@title #### Run this cell to check your solution { display-mode: \"form\", run: \"auto\" }\n",
        "\n",
        "assert \"square\" in globals(), \"You haven't defined the function 'square'.\"\n",
        "assert callable(square), \"'square' should be a function. Please, try again.\"\n",
        "assert square.__code__.co_argcount == 1, \"'square' should take 1 parameter. Please, try again.\"\n",
        "\n",
        "marking_system.check_step_1(square)\n"
      ]
    },
    {
      "cell_type": "markdown",
      "metadata": {
        "id": "JXKU78LbGDPQ"
      },
      "source": [
        "### 2. A lambda function named `cube` that takes in a number and returns that number cubed"
      ]
    },
    {
      "cell_type": "code",
      "execution_count": 7,
      "metadata": {
        "id": "xjsNEgvDGDPR"
      },
      "outputs": [],
      "source": [
        "# TODO: A lambda function named cube that takes in a number and returns that number cubed\n",
        "cube = lambda x: x**3"
      ]
    },
    {
      "cell_type": "code",
      "execution_count": 5,
      "metadata": {
        "id": "JwnQhvm0GDPR",
        "outputId": "a8bcfe06-df9c-497b-beb2-7f858e338021",
        "colab": {
          "base_uri": "https://localhost:8080/"
        }
      },
      "outputs": [
        {
          "output_type": "stream",
          "name": "stdout",
          "text": [
            "\u001b[92m✔ Well done!\n"
          ]
        }
      ],
      "source": [
        "#@title #### Run this cell to check your solution { display-mode: \"form\", run: \"auto\" }\n",
        "\n",
        "assert \"cube\" in globals(), \"You haven't defined the function 'cube'.\"\n",
        "assert callable(cube), \"'cube' should be a function. Please, try again.\"\n",
        "assert cube.__code__.co_argcount == 1, \"'cube' should take 1 parameter. Please, try again.\"\n",
        "\n",
        "marking_system.check_step_2(cube)\n"
      ]
    },
    {
      "cell_type": "markdown",
      "metadata": {
        "id": "wF2097ObGDPS"
      },
      "source": [
        "### 3. A lambda function named `add` that takes two numbers and returns the sum of those numbers"
      ]
    },
    {
      "cell_type": "code",
      "execution_count": 10,
      "metadata": {
        "id": "AXqhnKC8GDPT"
      },
      "outputs": [],
      "source": [
        "# TODO: A lambda function named `add` that takes two numbers and returns the sum of those numbers\n",
        "add = lambda x, y: x + y"
      ]
    },
    {
      "cell_type": "code",
      "execution_count": 11,
      "metadata": {
        "id": "zrsjOHIWGDPT",
        "outputId": "b02d2e0a-53dc-4c02-cf51-efdf823f96b7",
        "colab": {
          "base_uri": "https://localhost:8080/"
        }
      },
      "outputs": [
        {
          "output_type": "stream",
          "name": "stdout",
          "text": [
            "\u001b[92m✔ Well done!\n"
          ]
        }
      ],
      "source": [
        "#@title #### Run this cell to check your solution { display-mode: \"form\", run: \"auto\" }\n",
        "\n",
        "assert \"add\" in globals(), \"You haven't defined the function 'add'.\"\n",
        "assert callable(add), \"'add' should be a function. Please, try again.\"\n",
        "assert add.__code__.co_argcount == 2, \"'add' should take 2 parameters. Please, try again.\"\n",
        "\n",
        "marking_system.check_step_3(add)\n"
      ]
    },
    {
      "cell_type": "markdown",
      "metadata": {
        "id": "uYrUAax2GDPU"
      },
      "source": [
        "### 4. A lambda function named `multiply` that takes two numbers and returns the product of those numbers"
      ]
    },
    {
      "cell_type": "code",
      "execution_count": 12,
      "metadata": {
        "id": "qQj3Fze_GDPU"
      },
      "outputs": [],
      "source": [
        "# TODO: A lambda function named `multiply` that takes two numbers and returns the product of those numbers\n",
        "multiply = lambda x, y: x * y"
      ]
    },
    {
      "cell_type": "code",
      "execution_count": 13,
      "metadata": {
        "id": "_s2qKd-tGDPV",
        "outputId": "714a41ad-f0dc-4657-8b0d-546e1912cc24",
        "colab": {
          "base_uri": "https://localhost:8080/"
        }
      },
      "outputs": [
        {
          "output_type": "stream",
          "name": "stdout",
          "text": [
            "\u001b[92m✔ Well done!\n"
          ]
        }
      ],
      "source": [
        "#@title #### Run this cell to check your solution { display-mode: \"form\", run: \"auto\" }\n",
        "\n",
        "assert \"multiply\" in globals(), \"You haven't defined the function 'multiply'.\"\n",
        "assert callable(multiply), \"'multiply' should be a function. Please, try again.\"\n",
        "assert multiply.__code__.co_argcount == 2, \"'multiply' should take 2 parameters. Please, try again.\"\n",
        "\n",
        "marking_system.check_step_4(multiply)\n"
      ]
    }
  ],
  "metadata": {
    "kernelspec": {
      "display_name": "Python 3",
      "language": "python",
      "name": "python3"
    },
    "language_info": {
      "codemirror_mode": {
        "name": "ipython",
        "version": 3
      },
      "file_extension": ".py",
      "mimetype": "text/x-python",
      "name": "python",
      "nbconvert_exporter": "python",
      "pygments_lexer": "ipython3",
      "version": "3.10.6"
    },
    "colab": {
      "provenance": [],
      "include_colab_link": true
    }
  },
  "nbformat": 4,
  "nbformat_minor": 0
}