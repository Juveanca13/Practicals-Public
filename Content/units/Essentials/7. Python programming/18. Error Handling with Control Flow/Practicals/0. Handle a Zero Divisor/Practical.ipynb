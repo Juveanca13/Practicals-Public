{
  "cells": [
    {
      "cell_type": "markdown",
      "metadata": {
        "id": "view-in-github",
        "colab_type": "text"
      },
      "source": [
        "<a href=\"https://colab.research.google.com/github/Juveanca13/Practicals-Public/blob/main/Content/units/Essentials/7.%20Python%20programming/18.%20Error%20Handling%20with%20Control%20Flow/Practicals/0.%20Handle%20a%20Zero%20Divisor/Practical.ipynb\" target=\"_parent\"><img src=\"https://colab.research.google.com/assets/colab-badge.svg\" alt=\"Open In Colab\"/></a>"
      ]
    },
    {
      "cell_type": "markdown",
      "metadata": {
        "id": "V2aEWD8cxsNz"
      },
      "source": [
        "# Handle a Zero Divisor"
      ]
    },
    {
      "cell_type": "markdown",
      "metadata": {
        "id": "syEF4P4UxsN1"
      },
      "source": [
        "Write a function that uses a `try`-`except` block to handle a `ZeroDivisionError`. It should take in two numbers  `a` and `b` as input parameters, and return `a/b`, except where a `ZeroDivisonError` occurs, in which case it should retsurn `0`. Call it with the arguments `a=x` and `b=y` to check it."
      ]
    },
    {
      "cell_type": "code",
      "execution_count": 6,
      "metadata": {
        "id": "kq1TQy8mxsN2"
      },
      "outputs": [],
      "source": [
        "x = 10\n",
        "y = 0\n",
        "\n",
        "# TODO: Create a divide function that uses a try-except block to return a 0 in case of a ZeroDivisionError\n",
        "def divide (x,y):\n",
        "  try :\n",
        "    result = x/y\n",
        "    return result\n",
        "  except ZeroDivisionError:\n",
        "    print (\"Error: Division by zero\")\n",
        "    return 0\n",
        "\n",
        "\n"
      ]
    },
    {
      "cell_type": "markdown",
      "metadata": {
        "id": "r0SS6jaMxsN3"
      },
      "source": [
        "Now modify the function so that instead of taking in two parameters, it asks for user input to get the values of `a` and `b`. In the case of a `ZeroDivisionError` it should request the user re-enter their input"
      ]
    },
    {
      "cell_type": "code",
      "execution_count": 7,
      "metadata": {
        "id": "aZE76vcPxsN3"
      },
      "outputs": [],
      "source": [
        "# TODO: Create a user_input_divide function that asks for two user input for a and b, and returns a/b, handling the ZeroDivisionError by requesting new input\n",
        "def user_input_divide():\n",
        "  while True:\n",
        "    try:\n",
        "      x = float(input(\"Enter value of x:\"))\n",
        "      y = float(input(\"Enter value of y \"))\n",
        "      result = divide (x,y)\n",
        "      print (f\"Result of {x}/{y} is {result}\")\n",
        "      break\n",
        "    except ValueError:\n",
        "      print (\"Error: Please enter a valid numeric values.\")\n",
        "    except Exception as e:\n",
        "      print (f\"An unexpected error occurred: {e}\")\n"
      ]
    }
  ],
  "metadata": {
    "kernelspec": {
      "display_name": "content_repo",
      "language": "python",
      "name": "python3"
    },
    "language_info": {
      "codemirror_mode": {
        "name": "ipython",
        "version": 3
      },
      "file_extension": ".py",
      "mimetype": "text/x-python",
      "name": "python",
      "nbconvert_exporter": "python",
      "pygments_lexer": "ipython3",
      "version": "3.11.3"
    },
    "colab": {
      "provenance": [],
      "include_colab_link": true
    }
  },
  "nbformat": 4,
  "nbformat_minor": 0
}