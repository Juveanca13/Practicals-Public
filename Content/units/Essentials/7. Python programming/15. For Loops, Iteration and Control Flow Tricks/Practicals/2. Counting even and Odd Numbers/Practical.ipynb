{
  "cells": [
    {
      "cell_type": "markdown",
      "metadata": {
        "id": "view-in-github",
        "colab_type": "text"
      },
      "source": [
        "<a href=\"https://colab.research.google.com/github/Juveanca13/Practicals-Public/blob/main/Content/units/Essentials/7.%20Python%20programming/15.%20For%20Loops%2C%20Iteration%20and%20Control%20Flow%20Tricks/Practicals/2.%20Counting%20even%20and%20Odd%20Numbers/Practical.ipynb\" target=\"_parent\"><img src=\"https://colab.research.google.com/assets/colab-badge.svg\" alt=\"Open In Colab\"/></a>"
      ]
    },
    {
      "cell_type": "markdown",
      "id": "8138a717",
      "metadata": {
        "id": "8138a717"
      },
      "source": [
        "# Counting even and Odd Numbers"
      ]
    },
    {
      "cell_type": "code",
      "execution_count": 30,
      "id": "fd7e8abc",
      "metadata": {
        "id": "fd7e8abc",
        "outputId": "bd53d171-faeb-4775-fb88-6073804bf891",
        "colab": {
          "base_uri": "https://localhost:8080/"
        }
      },
      "outputs": [
        {
          "output_type": "stream",
          "name": "stdout",
          "text": [
            "Downloading the marking system\n"
          ]
        }
      ],
      "source": [
        "#@title ### Run the following cell to download the necessary files for this practical { display-mode: \"form\" }\n",
        "#@markdown Don't worry about what's in this collapsed cell\n",
        "\n",
        "print('Downloading the marking system')\n",
        "!wget https://s3-eu-west-1.amazonaws.com/aicore-portal-public-prod-307050600709/practical_files/f8e314e5-d234-467f-bccb-bd6a8d7eda34/marking_system.py -q -O marking_system.py\n",
        "import marking_system\n",
        "import importlib\n",
        "importlib.reload(marking_system)\n",
        "import sys\n",
        "ipython = get_ipython()\n",
        "def hide_traceback(exc_tuple=None, filename=None, tb_offset=None, exception_only=False, running_compiled_code=False):\n",
        "    etype, value, tb = sys.exc_info()\n",
        "    value.__cause__ = None  # suppress chained exceptions\n",
        "    return ipython._showtraceback(etype, \"❌ \" + f\"\u001b[91m{value}\", ipython.InteractiveTB.get_exception_only(etype, \"❌ \" + f\"\u001b[91m{value}\"))\n",
        "ipython.showtraceback = hide_traceback\n"
      ]
    },
    {
      "cell_type": "markdown",
      "id": "8a2907ce",
      "metadata": {
        "id": "8a2907ce"
      },
      "source": [
        "### 1. Write a `for` loop to count the sum of all even numbers between 1 and 100\n",
        "\n",
        "Start by defining a variable called even_sum and set it to 0"
      ]
    },
    {
      "cell_type": "code",
      "execution_count": 31,
      "id": "022994db",
      "metadata": {
        "id": "022994db"
      },
      "outputs": [],
      "source": [
        "# TODO - Create a variable called even_sum and set it to 0\n",
        "even_sum = 0\n",
        "# TODO - Create a for loop that iterates over the numbers 1 to 100\n",
        "for n in range (1,101):\n",
        "    # TODO - Check if the number is even\n",
        "    if n %2 == 0:\n",
        "        # TODO - If the number is even, add it to the even_sum\n",
        "        even_sum += n\n"
      ]
    },
    {
      "cell_type": "code",
      "execution_count": 32,
      "id": "8a5fd59c",
      "metadata": {
        "id": "8a5fd59c",
        "outputId": "35f3a7c4-be5b-454e-bfe3-31e9b4927b7e",
        "colab": {
          "base_uri": "https://localhost:8080/"
        }
      },
      "outputs": [
        {
          "output_type": "stream",
          "name": "stdout",
          "text": [
            "\u001b[92m✔ Well done! You successfully calculated the sum of the even numbers from 1 to 100. \n"
          ]
        }
      ],
      "source": [
        "#@title #### Run this cell to check if your code looks good { display-mode: \"form\"}\n",
        "\n",
        "assert \"even_sum\" in globals(), \"\"\n",
        "marking_system.check_step_1(even_sum)\n"
      ]
    },
    {
      "cell_type": "markdown",
      "id": "ec2939ad",
      "metadata": {
        "id": "ec2939ad"
      },
      "source": [
        "### 2. Write another `for` loop to count the sum of all odd numbers between 1 and 100\n",
        "\n",
        "Start by defining a variable called `odd_sum` and set it to 0"
      ]
    },
    {
      "cell_type": "code",
      "execution_count": 40,
      "id": "ecd3b26d",
      "metadata": {
        "id": "ecd3b26d"
      },
      "outputs": [],
      "source": [
        "# TODO - Create a variable called odd_sum and set it to 0\n",
        "odd_sum = 0\n",
        "# TODO - Create a for loop that iterates over the numbers 1 to 100\n",
        "for number in range (1,100):\n",
        "    # TODO - Check if the number is even\n",
        "    if number%2!= 0 :\n",
        "        # TODO - If the number is even, add it to the odd_sum\n",
        "        odd_sum += number\n"
      ]
    },
    {
      "cell_type": "code",
      "execution_count": 42,
      "id": "8be47ca4",
      "metadata": {
        "id": "8be47ca4",
        "outputId": "a32de7ea-1639-4e49-c4e6-e7fb53d6ce88",
        "colab": {
          "base_uri": "https://localhost:8080/"
        }
      },
      "outputs": [
        {
          "output_type": "stream",
          "name": "stdout",
          "text": [
            "\u001b[92m✔ Well done! You successfully calculated the sum of the even numbers from 1 to 100. \n"
          ]
        }
      ],
      "source": [
        "#@title #### Run this cell to check if your code looks good { display-mode: \"form\"}\n",
        "\n",
        "assert \"odd_sum\" in globals(), \"\"\n",
        "marking_system.check_step_2(odd_sum)\n"
      ]
    },
    {
      "cell_type": "code",
      "execution_count": 15,
      "id": "430c097d",
      "metadata": {
        "id": "430c097d"
      },
      "outputs": [],
      "source": []
    }
  ],
  "metadata": {
    "kernelspec": {
      "display_name": "content-projects",
      "language": "python",
      "name": "python3"
    },
    "language_info": {
      "codemirror_mode": {
        "name": "ipython",
        "version": 3
      },
      "file_extension": ".py",
      "mimetype": "text/x-python",
      "name": "python",
      "nbconvert_exporter": "python",
      "pygments_lexer": "ipython3",
      "version": "3.10.9"
    },
    "vscode": {
      "interpreter": {
        "hash": "09a03f703d9594344a2b9942d46f9fa7ca1a719272e47a84f9d4a0d86a51c104"
      }
    },
    "colab": {
      "provenance": [],
      "include_colab_link": true
    }
  },
  "nbformat": 4,
  "nbformat_minor": 5
}