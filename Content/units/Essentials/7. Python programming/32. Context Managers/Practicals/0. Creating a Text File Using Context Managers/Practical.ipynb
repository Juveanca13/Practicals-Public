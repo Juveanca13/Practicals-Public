{
  "cells": [
    {
      "cell_type": "markdown",
      "metadata": {
        "id": "view-in-github",
        "colab_type": "text"
      },
      "source": [
        "<a href=\"https://colab.research.google.com/github/Juveanca13/Practicals-Public/blob/main/Content/units/Essentials/7.%20Python%20programming/32.%20Context%20Managers/Practicals/0.%20Creating%20a%20Text%20File%20Using%20Context%20Managers/Practical.ipynb\" target=\"_parent\"><img src=\"https://colab.research.google.com/assets/colab-badge.svg\" alt=\"Open In Colab\"/></a>"
      ]
    },
    {
      "cell_type": "markdown",
      "metadata": {
        "id": "zyb1XAY74RZU"
      },
      "source": [
        "# Creating a Text File Using Context Managers"
      ]
    },
    {
      "cell_type": "markdown",
      "metadata": {
        "id": "Y3d-II2o4RZW"
      },
      "source": [
        "Create a context manager that opens a file called `test.txt` in write mode and writes the message \"Hello, I am a context manager!\" to the file."
      ]
    },
    {
      "cell_type": "code",
      "execution_count": 3,
      "metadata": {
        "id": "KV2o93iz4RZW"
      },
      "outputs": [],
      "source": [
        "# TODO: Create a context manager that opens a file called `test.txt` in write mode and writes the message \"Hello, I am a context manager!\" to the file.\n",
        "file = open (\"test.txt\", \"w\")\n",
        "file.write(\"Hello, I am a context manager\")\n",
        "file.close()\n"
      ]
    },
    {
      "cell_type": "markdown",
      "metadata": {
        "id": "6DHvePjI4RZX"
      },
      "source": [
        "Now use a context manager to read the file you just saved into a variable called `my_string`, and print it out:"
      ]
    },
    {
      "cell_type": "code",
      "execution_count": 11,
      "metadata": {
        "id": "zmtYHm--4RZX",
        "outputId": "482e69c7-14c4-4127-a2ac-c7d38c472970",
        "colab": {
          "base_uri": "https://localhost:8080/"
        }
      },
      "outputs": [
        {
          "output_type": "stream",
          "name": "stdout",
          "text": [
            "Hello, I am a context manager\n"
          ]
        }
      ],
      "source": [
        "# TODO: Create a context manager that opens a file called `test.txt` in read mode and reads the contents of the file into a variable called `my_string`.\n",
        "# TODO: Print `my_string `\n",
        "file = open (\"test.txt\",\"r\")\n",
        "print(file.read())\n",
        "with open (\"test.txt\",\"r\") as file:\n",
        "  my_string = file.read()\n"
      ]
    }
  ],
  "metadata": {
    "language_info": {
      "name": "python"
    },
    "colab": {
      "provenance": [],
      "include_colab_link": true
    },
    "kernelspec": {
      "name": "python3",
      "display_name": "Python 3"
    }
  },
  "nbformat": 4,
  "nbformat_minor": 0
}