{
  "cells": [
    {
      "cell_type": "markdown",
      "metadata": {
        "id": "view-in-github",
        "colab_type": "text"
      },
      "source": [
        "<a href=\"https://colab.research.google.com/github/Juveanca13/Practicals-Public/blob/main/milestone_4.ipynb\" target=\"_parent\"><img src=\"https://colab.research.google.com/assets/colab-badge.svg\" alt=\"Open In Colab\"/></a>"
      ]
    },
    {
      "cell_type": "markdown",
      "metadata": {
        "id": "i_xLFYD8a_h3"
      },
      "source": [
        "# Movie Recommendation - Milestone 4\n"
      ]
    },
    {
      "cell_type": "markdown",
      "metadata": {
        "id": "uB2aPmt3-wmh"
      },
      "source": [
        "<details>\n",
        "  <summary>Click in any of these links to compare your solution with ours up to this point</summary>\n",
        "  <p>\n",
        "    <a href=\"https://colab.research.google.com/github/AI-Core/movie-recommendation-solutions/blob/main/solution_m1.ipynb\" target=\"_parent\">Solution for milestone 1</a>\n",
        "  </p>\n",
        "  <p>\n",
        "    <a href=\"https://colab.research.google.com/github/AI-Core/movie-recommendation-solutions/blob/main/solution_m2.ipynb\" target=\"_parent\">Solution for milestone 2</a>\n",
        "  </p>\n",
        "    <p>\n",
        "        <a href=\"https://colab.research.google.com/github/AI-Core/movie-recommendation-solutions/blob/main/solution_m3.ipynb\" target=\"_parent\">Solution for milestone 3</a>\n",
        "    </p>\n",
        "</details>"
      ]
    },
    {
      "cell_type": "code",
      "execution_count": 34,
      "metadata": {
        "id": "zvbxatx1-wmi"
      },
      "outputs": [],
      "source": [
        "#@title # Run the following cell to add the `movies` variable and the `get_unique_genres` and `get_movies_in_genre` functions will be available for you to use. { display-mode: \"form\" }\n",
        "#@markdown Don’t worry about what’s in this collapsed cell, you’re not expected to understand the code inside\n",
        "\n",
        "!pip install movie-rec-marking-aicore --upgrade --quiet\n",
        "!wget https://aicore-files.s3.amazonaws.com/Movie-Recommendation/movies.json --quiet\n",
        "from movie_rec_marking import test_milestone_4\n",
        "import json\n",
        "with open('movies.json', 'r') as f:\n",
        "    movies = json.load(f)\n",
        "\n",
        "def get_unique_genres():\n",
        "    genres = []\n",
        "    for movie in movies:\n",
        "        genres.append(movie[\"genre\"])\n",
        "    genres = set(genres)\n",
        "    return genres\n",
        "\n",
        "def get_movies_in_genre(genre):\n",
        "    movies_in_genre = []\n",
        "    for movie in movies:\n",
        "        if movie[\"genre\"] == genre:\n",
        "            movies_in_genre.append(movie)\n",
        "    return movies_in_genre"
      ]
    },
    {
      "cell_type": "markdown",
      "metadata": {
        "id": "MYQw48Lqa3Q4"
      },
      "source": [
        "# Task 1\n",
        "### Ask the user what genre they are interested in\n",
        "\n",
        "Before you ask a user for their input, print out all of the available options. Get this from your `get_unique_genre`s method defined earlier.\n",
        "\n",
        "Then, take a user input using the `input()` function and assign it to the variable genre_choice.\n",
        "\n",
        "Put all of this in a function called `get_user_genre_choice`.\n",
        "\n",
        "Open this notebook  to get started, and follow the instructions for this milestone.\n",
        "\n"
      ]
    },
    {
      "cell_type": "code",
      "execution_count": 71,
      "metadata": {
        "id": "1UpT9BAym0iW",
        "outputId": "54386ba8-5572-4b8a-e8f2-126988ccce20",
        "colab": {
          "base_uri": "https://localhost:8080/"
        }
      },
      "outputs": [
        {
          "output_type": "stream",
          "name": "stdout",
          "text": [
            "Available movie genres:\n",
            "Enter the genre you are interested in: Action\n",
            "User chose the genre: Action\n"
          ]
        }
      ],
      "source": [
        "def get_unique_genres():\n",
        "    genres = []\n",
        "    for movie in movies:\n",
        "        genres.append(movie[\"genre\"])\n",
        "    genres = set(genres)\n",
        "    return genres\n",
        "\n",
        "def get_movies_in_genre(genre):\n",
        "    movies_in_genre = []\n",
        "    for movie in movies:\n",
        "        if movie[\"genre\"] == genre:\n",
        "            movies_in_genre.append(movie)\n",
        "    return movies_in_genre\n",
        "\n",
        "def get_user_genre_choice():\n",
        "    # Get unique genres\n",
        "    genres = get_unique_genres()\n",
        "\n",
        "    # Print available genre options\n",
        "    print(\"Available movie genres:\")\n",
        "    for genre in genres:\n",
        "        print(genre)\n",
        "\n",
        "    # Ask the user for their genre choice\n",
        "    genre_choice = input(\"Enter the genre you are interested in: \")\n",
        "\n",
        "    return genre_choice\n",
        "\n",
        "# Testing the function\n",
        "user_genre_choice = get_user_genre_choice()\n",
        "print(f\"User chose the genre: {user_genre_choice}\")\n"
      ]
    },
    {
      "cell_type": "code",
      "execution_count": 72,
      "metadata": {
        "id": "vH9mpImD-wmk",
        "outputId": "7c9916e6-0f84-4e67-f3a7-992c90b0e562",
        "colab": {
          "base_uri": "https://localhost:8080/"
        }
      },
      "outputs": [
        {
          "output_type": "stream",
          "name": "stdout",
          "text": [
            "Great! The \"get_user_genre_choice\" function prints the correct genre\n",
            "You can continue to the next task\n"
          ]
        }
      ],
      "source": [
        "#@title Run this cell to check your solution { display-mode: \"form\", run: \"auto\" }\n",
        "\n",
        "assert 'get_user_genre_choice' in globals(), \"You need to define a function called get_user_genre_choice\"\n",
        "task_1 = test_milestone_4.check_get_user_genre_choice(get_user_genre_choice)"
      ]
    },
    {
      "cell_type": "markdown",
      "metadata": {
        "id": "NIjgwBC0-wml"
      },
      "source": [
        "# Task 2\n",
        "\n",
        "### Show the movies in the selected genre\n",
        "\n",
        "Write some code to show the movies in a selected genre (you don't need to define this as a function yet):\n",
        "\n",
        "Use your `get_movies_in_genre` function to get a list of movies in the genre selected.\n",
        "\n",
        "\n",
        "Print each movie within the selected genre on a new line. At the start of the line, print the integer index of the movie.\n",
        "\n",
        "\n",
        "Make sure to:\n",
        "\n",
        "- Use the built-in `enumerate` function\n",
        "- Use an f-string to format the printed text\n",
        "\n",
        "To avoid confusing users, make the indexing start from 1 rather than zero. For example, one line should look something like: `\"3: The Dark Knight\"`."
      ]
    },
    {
      "cell_type": "code",
      "execution_count": 87,
      "metadata": {
        "id": "_DGuURax-wml",
        "outputId": "6d8fc8f0-0fc6-4a0e-ca37-c1ad7164eaca",
        "colab": {
          "base_uri": "https://localhost:8080/"
        }
      },
      "outputs": [
        {
          "output_type": "stream",
          "name": "stdout",
          "text": [
            "Available genres:\n",
            "Film-Noir\n",
            "Animation\n",
            "Western\n",
            "Mystery\n",
            "Action\n",
            "Biography\n",
            "Horror\n",
            "Adventure\n",
            "Drama\n",
            "Comedy\n",
            "Crime\n",
            "Enter the genre you are interested in: Drama\n",
            "1: The Shawshank Redemption\n",
            "2: Forrest Gump\n",
            "3: Fight Club\n",
            "4: One Flew Over the Cuckoo's Nest\n",
            "5: It's a Wonderful Life\n",
            "6: Saving Private Ryan\n",
            "7: Parasite\n",
            "8: The Prestige\n",
            "9: Whiplash\n",
            "10: Casablanca\n",
            "11: Cinema Paradiso\n",
            "12: Apocalypse Now\n",
            "13: Django Unchained\n",
            "14: The Lives of Others\n",
            "15: Sunset Blvd.\n",
            "16: Paths of Glory\n",
            "17: The Shining\n",
            "18: American Beauty\n",
            "19: Das Boot\n",
            "20: Good Will Hunting\n",
            "21: Requiem for a Dream\n",
            "22: Eternal Sunshine of the Spotless Mind\n",
            "23: Capernaum\n",
            "24: The Hunt\n",
            "25: Citizen Kane\n",
            "26: Come and See\n",
            "27: Full Metal Jacket\n",
            "28: Ikiru\n",
            "29: Incendies\n",
            "30: Metropolis\n",
            "31: A Separation\n",
            "32: Bicycle Thieves\n",
            "33: Like Stars on Earth\n",
            "34: All About Eve\n",
            "35: The Father\n",
            "36: Judgment at Nuremberg\n",
            "37: Pan's Labyrinth\n",
            "38: Unforgiven\n",
            "39: There Will Be Blood\n",
            "40: The Sixth Sense\n",
            "41: Chinatown\n",
            "42: Gone with the Wind\n",
            "43: The Secret in Their Eyes\n",
            "44: Trainspotting\n",
            "45: Gran Torino\n",
            "46: Million Dollar Baby\n",
            "47: Children of Heaven\n",
            "48: Before Sunrise\n",
            "49: Wild Strawberries\n",
            "50: Gone Girl\n",
            "51: The Deer Hunter\n",
            "52: The Seventh Seal\n",
            "53: Room\n",
            "54: Tokyo Story\n",
            "55: Rocky\n",
            "56: Platoon\n",
            "57: Pather Panchali\n",
            "58: Network\n",
            "59: Before Sunset\n",
            "60: The Best Years of Our Lives\n",
            "61: The Battle of Algiers\n",
            "62: The Grapes of Wrath\n",
            "63: Rebecca\n",
            "64: Amores perros\n",
            "65: My Father and My Son\n",
            "66: Persona\n",
            "67: The Handmaiden\n",
            "68: The Help\n"
          ]
        }
      ],
      "source": [
        "## Write your code here\n",
        "\n",
        "def get_unique_genres():\n",
        "    genres = []\n",
        "    for movie in movies:\n",
        "        genres.append(movie[\"genre\"])\n",
        "    genres = set(genres)\n",
        "    return genres\n",
        "\n",
        "def get_movies_in_genre(genre):\n",
        "    movies_in_genre = []\n",
        "    for movie in movies:\n",
        "        if movie[\"genre\"] == genre:\n",
        "            movies_in_genre.append(movie)\n",
        "    return movies_in_genre\n",
        "\n",
        "def get_user_genre_choice():\n",
        "    genres = get_unique_genres()\n",
        "    print(\"Available genres:\")\n",
        "    for genre in genres:\n",
        "        print(genre)\n",
        "\n",
        "    genre_choice = input(\"Enter the genre you are interested in: \")\n",
        "\n",
        "    return genre_choice\n",
        "\n",
        "def show_movies_in_genre():\n",
        "    genre_choice = get_user_genre_choice()\n",
        "\n",
        "    movies_in_genre = get_movies_in_genre(genre_choice)\n",
        "\n",
        "    for index, movie in enumerate(movies_in_genre, start=1):\n",
        "        print(f\"{index}: {movie['title']}\")\n",
        "\n",
        "\n",
        "show_movies_in_genre()\n",
        "\n",
        "\n",
        "\n"
      ]
    },
    {
      "cell_type": "code",
      "execution_count": 84,
      "metadata": {
        "colab": {
          "base_uri": "https://localhost:8080/"
        },
        "id": "0WVIZ5Ot-wmm",
        "outputId": "af744c47-5c0f-4b8b-f4a2-8e62677c40de"
      },
      "outputs": [
        {
          "output_type": "stream",
          "name": "stdout",
          "text": [
            "Great! The \"get_movies_in_genre\" function returns the correct movies\n",
            "You can continue to the next task\n"
          ]
        }
      ],
      "source": [
        "#@title Enter your solution here { display-mode: \"form\", run: \"auto\" }\n",
        "#@markdown For Action, which is the movie corresponding to index 12?\n",
        "first_movie = \"Gladiator\" #@param [\"The Dark Knight\", \"Leon\", \"Harakiri\", \"Gladiator\", \"Pirates of the Caribbean: The Curse of the Black Pearl\"] {allow-input: true}\n",
        "#@markdown For Drama, which is the movie corresponding to index 7?\n",
        "second_movie = \"Parasite\" #@param [\"The Help\", \"The Shawshank Redemption\", \"The Prestige\", \"Parasite\", \"Saving Private Ryan\"] {allow-input: true}\n",
        "\n",
        "#@markdown For Crime, which is the movie corresponding to index 26?\n",
        "third_movie = \"No Country for Old Men\" #@param [\"Rashomon\", \"Reservoir Dogs\", \"The Godfather\", \"No Country for Old Men\", \"Dial M for Murder\"] {allow-input: true}\n",
        "task_2 = test_milestone_4.check_get_movies_in_genre(first_movie, second_movie, third_movie, task_1)"
      ]
    },
    {
      "cell_type": "markdown",
      "metadata": {
        "id": "fHdfMndf-wmm"
      },
      "source": [
        "# Task 3\n",
        "\n",
        "### Select and display the details of a movie\n",
        "\n",
        "Define a new function called `get_movie_by_index`. It should first print out all the movies in the genre selected.\n",
        "\n",
        "Then, it should ask the user to select a movie by entering the index of the movie. Assign this to a variable named `selected_movie_index`.\n",
        "\n",
        "\n",
        "HINT: Be careful of what data type is returned from the `input()` function.\n",
        "\n",
        "Print the key-value pairs of the selected movie's dictionary each on a new line.\n",
        "\n",
        "On each line, print the key and the value, separated by a comma.\n",
        "\n",
        "\n",
        "Make sure to use the `.items()` method of the dictionary.\n",
        "\n",
        "\n",
        "Your program should end after this."
      ]
    },
    {
      "cell_type": "code",
      "execution_count": 92,
      "metadata": {
        "id": "7G9Pjndz-wmm",
        "outputId": "e189ff4e-5716-49b1-9e8e-fff01023020e",
        "colab": {
          "base_uri": "https://localhost:8080/"
        }
      },
      "outputs": [
        {
          "output_type": "stream",
          "name": "stdout",
          "text": [
            "Available genres:\n",
            "Film-Noir\n",
            "Animation\n",
            "Western\n",
            "Mystery\n",
            "Action\n",
            "Biography\n",
            "Horror\n",
            "Adventure\n",
            "Drama\n",
            "Comedy\n",
            "Crime\n",
            "Enter the genre you are interested in: Drama\n",
            "1: The Shawshank Redemption\n",
            "2: Forrest Gump\n",
            "3: Fight Club\n",
            "4: One Flew Over the Cuckoo's Nest\n",
            "5: It's a Wonderful Life\n",
            "6: Saving Private Ryan\n",
            "7: Parasite\n",
            "8: The Prestige\n",
            "9: Whiplash\n",
            "10: Casablanca\n",
            "11: Cinema Paradiso\n",
            "12: Apocalypse Now\n",
            "13: Django Unchained\n",
            "14: The Lives of Others\n",
            "15: Sunset Blvd.\n",
            "16: Paths of Glory\n",
            "17: The Shining\n",
            "18: American Beauty\n",
            "19: Das Boot\n",
            "20: Good Will Hunting\n",
            "21: Requiem for a Dream\n",
            "22: Eternal Sunshine of the Spotless Mind\n",
            "23: Capernaum\n",
            "24: The Hunt\n",
            "25: Citizen Kane\n",
            "26: Come and See\n",
            "27: Full Metal Jacket\n",
            "28: Ikiru\n",
            "29: Incendies\n",
            "30: Metropolis\n",
            "31: A Separation\n",
            "32: Bicycle Thieves\n",
            "33: Like Stars on Earth\n",
            "34: All About Eve\n",
            "35: The Father\n",
            "36: Judgment at Nuremberg\n",
            "37: Pan's Labyrinth\n",
            "38: Unforgiven\n",
            "39: There Will Be Blood\n",
            "40: The Sixth Sense\n",
            "41: Chinatown\n",
            "42: Gone with the Wind\n",
            "43: The Secret in Their Eyes\n",
            "44: Trainspotting\n",
            "45: Gran Torino\n",
            "46: Million Dollar Baby\n",
            "47: Children of Heaven\n",
            "48: Before Sunrise\n",
            "49: Wild Strawberries\n",
            "50: Gone Girl\n",
            "51: The Deer Hunter\n",
            "52: The Seventh Seal\n",
            "53: Room\n",
            "54: Tokyo Story\n",
            "55: Rocky\n",
            "56: Platoon\n",
            "57: Pather Panchali\n",
            "58: Network\n",
            "59: Before Sunset\n",
            "60: The Best Years of Our Lives\n",
            "61: The Battle of Algiers\n",
            "62: The Grapes of Wrath\n",
            "63: Rebecca\n",
            "64: Amores perros\n",
            "65: My Father and My Son\n",
            "66: Persona\n",
            "67: The Handmaiden\n",
            "68: The Help\n",
            "Enter the index of the movie you want to see details of: 56\n",
            "title: Platoon\n",
            "description: Chris Taylor, a neophyte recruit in Vietnam, finds himself caught in a battle of wills between two sergeants, one good and the other evil. A shrewd examination of the brutality of war and the duality of man in conflict.\n",
            "genre: Drama\n",
            "image_url: https://m.media-amazon.com/images/M/MV5BMzRjZjdlMjQtODVkYS00N2YzLWJlYWYtMGVlN2E5MWEwMWQzXkEyXkFqcGdeQXVyMTQxNzMzNDI@._V1_UX45_CR0,0,45,67_AL_.jpg\n",
            "link: https://imdb.com/title/tt0091763/?pf_rd_m=A2FGELUUNOQJNL&pf_rd_p=1a264172-ae11-42e4-8ef7-7fed1973bb8f&pf_rd_r=VZEYAR8ZVPNKZ9V7MV87&pf_rd_s=center-1&pf_rd_t=15506&pf_rd_i=top&ref_=chttp_tt_212\n"
          ]
        }
      ],
      "source": [
        "## Write your code here\n",
        "def get_unique_genres():\n",
        "    genres = []\n",
        "    for movie in movies:\n",
        "        genres.append(movie[\"genre\"])\n",
        "    genres = set(genres)\n",
        "    return genres\n",
        "\n",
        "def get_movies_in_genre(genre):\n",
        "    movies_in_genre = []\n",
        "    for movie in movies:\n",
        "        if movie[\"genre\"] == genre:\n",
        "            movies_in_genre.append(movie)\n",
        "    return movies_in_genre\n",
        "\n",
        "def get_user_genre_choice():\n",
        "    genres = get_unique_genres()\n",
        "    print(\"Available genres:\")\n",
        "    for genre in genres:\n",
        "        print(genre)\n",
        "\n",
        "    # Ask the user for their genre choice\n",
        "    genre_choice = input(\"Enter the genre you are interested in: \")\n",
        "\n",
        "    return genre_choice\n",
        "\n",
        "def show_movies_in_genre(genre):\n",
        "    movies_in_genre = get_movies_in_genre(genre)\n",
        "    for index, movie in enumerate(movies_in_genre, start=1):\n",
        "        print(f\"{index}: {movie['title']}\")\n",
        "\n",
        "def get_movie_by_index():\n",
        "    genre_choice = get_user_genre_choice()\n",
        "    show_movies_in_genre(genre_choice)\n",
        "    selected_movie_index = int(input(\"Enter the index of the movie you want to see details of: \"))\n",
        "    selected_movie = get_movies_in_genre(genre_choice)[selected_movie_index - 1]\n",
        "    for key, value in selected_movie.items():\n",
        "        print(f\"{key}: {value}\")\n",
        "\n",
        "get_movie_by_index()\n",
        "\n"
      ]
    },
    {
      "cell_type": "code",
      "execution_count": 91,
      "metadata": {
        "id": "ZtJ8ZMZ6-wmn",
        "outputId": "3271ce26-39aa-4a00-ceeb-56c276a4dada",
        "colab": {
          "base_uri": "https://localhost:8080/"
        }
      },
      "outputs": [
        {
          "output_type": "stream",
          "name": "stdout",
          "text": [
            "Great! The \"get_movie_by_index\" function is defined correctly\n",
            "You have completed the fourth milestone of the project! Congratulations!\n"
          ]
        }
      ],
      "source": [
        "#@title Run this cell to check your solution { display-mode: \"form\", run: \"auto\" }\n",
        "\n",
        "assert 'get_movie_by_index' in globals(), \"You need to define a function called get_movie_by_index\"\n",
        "task_3 = test_milestone_4.check_get_movie_by_index(get_movie_by_index, task_2)"
      ]
    }
  ],
  "metadata": {
    "colab": {
      "provenance": [],
      "include_colab_link": true
    },
    "kernelspec": {
      "display_name": "Python 3.9.5 ('base')",
      "language": "python",
      "name": "python3"
    },
    "language_info": {
      "codemirror_mode": {
        "name": "ipython",
        "version": 3
      },
      "file_extension": ".py",
      "mimetype": "text/x-python",
      "name": "python",
      "nbconvert_exporter": "python",
      "pygments_lexer": "ipython3",
      "version": "3.9.5 (default, Jun  4 2021, 12:28:51) \n[GCC 7.5.0]"
    },
    "orig_nbformat": 4,
    "vscode": {
      "interpreter": {
        "hash": "ce99af5845ff7f417c6fe57e3883abe41597db90e3f493c4f9da5159bbc46102"
      }
    }
  },
  "nbformat": 4,
  "nbformat_minor": 0
}